{
 "cells": [
  {
   "cell_type": "code",
   "execution_count": 2,
   "id": "382aba64-b6eb-41e3-afb8-e68f1215dfc1",
   "metadata": {},
   "outputs": [
    {
     "data": {
      "text/html": [
       "\n",
       "        <iframe\n",
       "            width=\"100%\"\n",
       "            height=\"650\"\n",
       "            src=\"http://127.0.0.1:8050/\"\n",
       "            frameborder=\"0\"\n",
       "            allowfullscreen\n",
       "            \n",
       "        ></iframe>\n",
       "        "
      ],
      "text/plain": [
       "<IPython.lib.display.IFrame at 0x20699fbb230>"
      ]
     },
     "metadata": {},
     "output_type": "display_data"
    }
   ],
   "source": [
    "import dash\n",
    "from dash import dcc, html\n",
    "from dash.dependencies import Input, Output\n",
    "import pandas as pd\n",
    "import plotly.express as px\n",
    "\n",
    "# Cargar los datos desde el archivo Excel\n",
    "file_path = r'C:\\Users\\christian_luna\\Documents\\Maestria\\TopicosDeIndustria1\\datos_trafico_guadalajara.xlsx'\n",
    "df = pd.read_excel(file_path)\n",
    "\n",
    "# Inicializar la aplicación de Dash\n",
    "app = dash.Dash(__name__)\n",
    "\n",
    "# Opciones de filtros\n",
    "zonas_options = [{'label': zona, 'value': zona} for zona in df['Zona'].unique()]\n",
    "vehiculos_options = [{'label': vehiculo, 'value': vehiculo} for vehiculo in df['Tipo de Vehículo'].unique()]\n",
    "\n",
    "# Diseño del dashboard\n",
    "app.layout = html.Div([\n",
    "    html.H1(\"Dashboard de Tráfico - Zona Metropolitana de Guadalajara\"),\n",
    "    \n",
    "    # Menú de filtros\n",
    "    html.Div([\n",
    "        html.Label('Seleccionar Zona:'),\n",
    "        dcc.Dropdown(id='zona-dropdown', options=zonas_options, value=zonas_options[0]['value']),\n",
    "        \n",
    "        html.Label('Seleccionar Tipo de Vehículo:'),\n",
    "        dcc.Dropdown(id='vehiculo-dropdown', options=vehiculos_options, value=vehiculos_options[0]['value']),\n",
    "    ], style={'width': '48%', 'display': 'inline-block'}),\n",
    "    \n",
    "    # Gráficos\n",
    "    dcc.Graph(id='mapa-calor'),\n",
    "    dcc.Graph(id='histograma-velocidad')\n",
    "])\n",
    "\n",
    "# Callback para actualizar el mapa de calor y el histograma según los filtros seleccionados\n",
    "@app.callback(\n",
    "    [Output('mapa-calor', 'figure'),\n",
    "     Output('histograma-velocidad', 'figure')],\n",
    "    [Input('zona-dropdown', 'value'),\n",
    "     Input('vehiculo-dropdown', 'value')]\n",
    ")\n",
    "def actualizar_graficos(zona, vehiculo):\n",
    "    # Filtrar el conjunto de datos según la zona y el tipo de vehículo seleccionado\n",
    "    df_filtrado = df[(df['Zona'] == zona) & (df['Tipo de Vehículo'] == vehiculo)]\n",
    "    \n",
    "    # Mapa de calor: Congestión en función del tiempo\n",
    "    fig_mapa_calor = px.density_heatmap(df_filtrado, x='Fecha y Hora', y='Zona',\n",
    "                                        z='Número de Vehículos',\n",
    "                                        title=f'Congestión en {zona} para {vehiculo}',\n",
    "                                        labels={'z': 'Número de Vehículos'})\n",
    "    \n",
    "    # Histograma de velocidades\n",
    "    fig_histograma = px.histogram(df_filtrado, x='Velocidad Promedio (km/h)',\n",
    "                                  title=f'Histograma de Velocidades para {zona} y {vehiculo}',\n",
    "                                  labels={'x': 'Velocidad Promedio (km/h)', 'y': 'Frecuencia'})\n",
    "\n",
    "    return fig_mapa_calor, fig_histograma\n",
    "\n",
    "# Correr la aplicación\n",
    "if __name__ == '__main__':\n",
    "    app.run_server(debug=True)\n"
   ]
  },
  {
   "cell_type": "code",
   "execution_count": null,
   "id": "c48827fe-7a61-4c91-9b94-50d8dd3e0366",
   "metadata": {},
   "outputs": [],
   "source": []
  }
 ],
 "metadata": {
  "kernelspec": {
   "display_name": "Python 3 (ipykernel)",
   "language": "python",
   "name": "python3"
  },
  "language_info": {
   "codemirror_mode": {
    "name": "ipython",
    "version": 3
   },
   "file_extension": ".py",
   "mimetype": "text/x-python",
   "name": "python",
   "nbconvert_exporter": "python",
   "pygments_lexer": "ipython3",
   "version": "3.12.1"
  }
 },
 "nbformat": 4,
 "nbformat_minor": 5
}
