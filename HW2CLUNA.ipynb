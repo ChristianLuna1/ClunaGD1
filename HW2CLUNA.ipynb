{
 "cells": [
  {
   "cell_type": "markdown",
   "id": "fb100cd4-25f4-4ff2-b5c1-0f90692ad071",
   "metadata": {},
   "source": [
    "Parte 1: Implementar la clase Vec2d\n",
    "Primero, implementaremos la clase Vec2d que servirá para representar y operar con vectores en 2D."
   ]
  },
  {
   "cell_type": "code",
   "execution_count": 1,
   "id": "1c3f4bbf-33d8-475d-8ee7-5ae0bc34f539",
   "metadata": {},
   "outputs": [],
   "source": [
    "# vec2d.py\n",
    "\n",
    "import numpy as np\n",
    "\n",
    "class Vec2d:\n",
    "    def __init__(self, x, y):\n",
    "        self.x = x\n",
    "        self.y = y\n",
    "\n",
    "    def __add__(self, other):\n",
    "        return Vec2d(self.x + other.x, self.y + other.y)\n",
    "\n",
    "    def rotate(self, angle_rad):\n",
    "        # Rotar el vector por un ángulo dado en radianes\n",
    "        cos_theta = np.cos(angle_rad)\n",
    "        sin_theta = np.sin(angle_rad)\n",
    "        x_new = self.x * cos_theta - self.y * sin_theta\n",
    "        y_new = self.x * sin_theta + self.y * cos_theta\n",
    "        return Vec2d(x_new, y_new)\n",
    "\n",
    "    def to_tuple(self):\n",
    "        return (self.x, self.y)\n"
   ]
  },
  {
   "cell_type": "markdown",
   "id": "ed46a7fd-95c5-4728-850b-41186f012f78",
   "metadata": {},
   "source": [
    "Parte 2: Generar la trayectoria del paseo aleatorio correlacionado\n",
    "A continuación, utilizaremos la clase Vec2d para crear la lógica que genera la trayectoria del paseo aleatorio."
   ]
  },
  {
   "cell_type": "code",
   "execution_count": 2,
   "id": "c6cfbfc2-1f40-4d28-89ac-7bbebe224331",
   "metadata": {},
   "outputs": [
    {
     "ename": "ModuleNotFoundError",
     "evalue": "No module named 'vec2d'",
     "output_type": "error",
     "traceback": [
      "\u001b[1;31m---------------------------------------------------------------------------\u001b[0m",
      "\u001b[1;31mModuleNotFoundError\u001b[0m                       Traceback (most recent call last)",
      "Cell \u001b[1;32mIn[2], line 5\u001b[0m\n\u001b[0;32m      3\u001b[0m \u001b[38;5;28;01mimport\u001b[39;00m \u001b[38;5;21;01mnumpy\u001b[39;00m \u001b[38;5;28;01mas\u001b[39;00m \u001b[38;5;21;01mnp\u001b[39;00m\n\u001b[0;32m      4\u001b[0m \u001b[38;5;28;01mfrom\u001b[39;00m \u001b[38;5;21;01mscipy\u001b[39;00m\u001b[38;5;21;01m.\u001b[39;00m\u001b[38;5;21;01mstats\u001b[39;00m \u001b[38;5;28;01mimport\u001b[39;00m cauchy\n\u001b[1;32m----> 5\u001b[0m \u001b[38;5;28;01mfrom\u001b[39;00m \u001b[38;5;21;01mvec2d\u001b[39;00m \u001b[38;5;28;01mimport\u001b[39;00m Vec2d\n\u001b[0;32m      7\u001b[0m \u001b[38;5;66;03m# Configuración del paseo aleatorio\u001b[39;00m\n\u001b[0;32m      8\u001b[0m n_steps \u001b[38;5;241m=\u001b[39m \u001b[38;5;241m1000\u001b[39m  \u001b[38;5;66;03m# Número de pasos en la trayectoria\u001b[39;00m\n",
      "\u001b[1;31mModuleNotFoundError\u001b[0m: No module named 'vec2d'"
     ]
    }
   ],
   "source": [
    "# random_walk.py\n",
    "\n",
    "import numpy as np\n",
    "from scipy.stats import cauchy\n",
    "from vec2d import Vec2d\n",
    "\n",
    "# Configuración del paseo aleatorio\n",
    "n_steps = 1000  # Número de pasos en la trayectoria\n",
    "step_size = 1.0  # Tamaño del paso\n",
    "trajectory = np.zeros((n_steps, 2))  # Arreglo para almacenar la trayectoria\n",
    "position = Vec2d(0, 0)  # Posición inicial\n",
    "\n",
    "# Generar el paseo aleatorio\n",
    "for i in range(1, n_steps):\n",
    "    # Seleccionar un ángulo de rotación de una distribución de Cauchy\n",
    "    angle = cauchy.rvs(loc=0, scale=1)\n",
    "    step_vector = Vec2d(step_size, 0).rotate(angle)  # Crear un vector de paso\n",
    "    position = position + step_vector  # Actualizar la posición\n",
    "    trajectory[i] = position.to_tuple()  # Almacenar la posición\n",
    "\n",
    "# Guardar la trayectoria para su uso posterior\n",
    "np.save('trajectory.npy', trajectory)\n"
   ]
  },
  {
   "cell_type": "code",
   "execution_count": null,
   "id": "2f51ec5c-20b7-4fa1-81f9-10172b6a31a9",
   "metadata": {},
   "outputs": [],
   "source": []
  }
 ],
 "metadata": {
  "kernelspec": {
   "display_name": "Python 3 (ipykernel)",
   "language": "python",
   "name": "python3"
  },
  "language_info": {
   "codemirror_mode": {
    "name": "ipython",
    "version": 3
   },
   "file_extension": ".py",
   "mimetype": "text/x-python",
   "name": "python",
   "nbconvert_exporter": "python",
   "pygments_lexer": "ipython3",
   "version": "3.12.1"
  }
 },
 "nbformat": 4,
 "nbformat_minor": 5
}
