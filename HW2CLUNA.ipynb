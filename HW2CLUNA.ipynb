{
 "cells": [
  {
   "cell_type": "markdown",
   "id": "fb100cd4-25f4-4ff2-b5c1-0f90692ad071",
   "metadata": {},
   "source": [
    "Parte 1: Implementar la clase Vec2d\n",
    "Primero, implementaremos la clase Vec2d que servirá para representar y operar con vectores en 2D."
   ]
  },
  {
   "cell_type": "code",
   "execution_count": 1,
   "id": "1c3f4bbf-33d8-475d-8ee7-5ae0bc34f539",
   "metadata": {},
   "outputs": [],
   "source": [
    "# vec2d.py\n",
    "\n",
    "import numpy as np\n",
    "\n",
    "class Vec2d:\n",
    "    def __init__(self, x, y):\n",
    "        self.x = x\n",
    "        self.y = y\n",
    "\n",
    "    def __add__(self, other):\n",
    "        return Vec2d(self.x + other.x, self.y + other.y)\n",
    "\n",
    "    def rotate(self, angle_rad):\n",
    "        # Rotar el vector por un ángulo dado en radianes\n",
    "        cos_theta = np.cos(angle_rad)\n",
    "        sin_theta = np.sin(angle_rad)\n",
    "        x_new = self.x * cos_theta - self.y * sin_theta\n",
    "        y_new = self.x * sin_theta + self.y * cos_theta\n",
    "        return Vec2d(x_new, y_new)\n",
    "\n",
    "    def to_tuple(self):\n",
    "        return (self.x, self.y)\n"
   ]
  },
  {
   "cell_type": "code",
   "execution_count": null,
   "id": "ac944cc3-9352-4022-9c06-6dc42bedcea1",
   "metadata": {},
   "outputs": [],
   "source": []
  },
  {
   "cell_type": "code",
   "execution_count": null,
   "id": "c6cfbfc2-1f40-4d28-89ac-7bbebe224331",
   "metadata": {},
   "outputs": [],
   "source": []
  }
 ],
 "metadata": {
  "kernelspec": {
   "display_name": "Python 3 (ipykernel)",
   "language": "python",
   "name": "python3"
  },
  "language_info": {
   "codemirror_mode": {
    "name": "ipython",
    "version": 3
   },
   "file_extension": ".py",
   "mimetype": "text/x-python",
   "name": "python",
   "nbconvert_exporter": "python",
   "pygments_lexer": "ipython3",
   "version": "3.12.1"
  }
 },
 "nbformat": 4,
 "nbformat_minor": 5
}
