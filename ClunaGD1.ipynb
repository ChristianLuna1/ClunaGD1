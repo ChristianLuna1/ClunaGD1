{
 "cells": [
  {
   "cell_type": "markdown",
   "id": "9901d3c3-ad54-4e05-b4d9-1deef80f423d",
   "metadata": {},
   "source": [
    "# Optimización de Funciones 2D usando Gradiente Descendente\n",
    "\n",
    "Este notebook utiliza el método de gradiente descendente para encontrar un mínimo local de una función bidimensional. La superficie de la función y las posiciones optimizadas a lo largo de las iteraciones se visualizarán para ilustrar el proceso de optimización.\n",
    "\n",
    "## Función Objetivo\n",
    "La función objetivo utilizada en este ejemplo es una función matemática bidimensional que se optimiza para encontrar su mínimo local.\n"
   ]
  },
  {
   "cell_type": "code",
   "execution_count": null,
   "id": "ae3ff118-8183-460c-87fa-9a77b157c8a6",
   "metadata": {},
   "outputs": [],
   "source": [
    "import numpy as np\n",
    "\n",
    "# Definir la función objetivo\n",
    "def f(x, y):\n",
    "    return x**2 + y**2 + 10*np.sin(x) + 10*np.sin(y)\n",
    "\n",
    "# Gradiente de la función objetivo\n",
    "def grad_f(x, y):\n",
    "    df_dx = 2*x + 10*np.cos(x)\n",
    "    df_dy = 2*y + 10*np.cos(y)\n",
    "    return np.array([df_dx, df_dy])"
   ]
  },
  {
   "cell_type": "code",
   "execution_count": null,
   "id": "25de8676-c860-499e-91f5-ec69da7c3f65",
   "metadata": {},
   "outputs": [],
   "source": [
    "import matplotlib.pyplot as plt\n",
    "from mpl_toolkits.mplot3d import Axes3D\n",
    "\n",
    "# Configuración del gradiente descendente\n",
    "def gradient_descent(starting_point, learning_rate, num_iterations):\n",
    "    point = np.array(starting_point)\n",
    "    path = [point.copy()]\n",
    "    \n",
    "    for _ in range(num_iterations):\n",
    "        grad = grad_f(point[0], point[1])\n",
    "        point = point - learning_rate * grad\n",
    "        path.append(point.copy())\n",
    "    \n",
    "    return np.array(path)\n",
    "\n",
    "# Parámetros del gradiente descendente\n",
    "starting_point = [2.0, 2.0]  # punto de inicio\n",
    "learning_rate = 0.1\n",
    "num_iterations = 100\n",
    "\n",
    "# Ejecutar el gradiente descendente\n",
    "path = gradient_descent(starting_point, learning_rate, num_iterations)"
   ]
  }
 ],
 "metadata": {
  "kernelspec": {
   "display_name": "Python 3 (ipykernel)",
   "language": "python",
   "name": "python3"
  },
  "language_info": {
   "codemirror_mode": {
    "name": "ipython",
    "version": 3
   },
   "file_extension": ".py",
   "mimetype": "text/x-python",
   "name": "python",
   "nbconvert_exporter": "python",
   "pygments_lexer": "ipython3",
   "version": "3.12.1"
  }
 },
 "nbformat": 4,
 "nbformat_minor": 5
}
