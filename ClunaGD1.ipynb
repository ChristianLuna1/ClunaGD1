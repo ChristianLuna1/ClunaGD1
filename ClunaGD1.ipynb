{
 "cells": [
  {
   "cell_type": "markdown",
   "id": "9901d3c3-ad54-4e05-b4d9-1deef80f423d",
   "metadata": {},
   "source": [
    "# Optimización de Funciones 2D usando Gradiente Descendente\n",
    "\n",
    "Este notebook utiliza el método de gradiente descendente para encontrar un mínimo local de una función bidimensional. La superficie de la función y las posiciones optimizadas a lo largo de las iteraciones se visualizarán para ilustrar el proceso de optimización.\n",
    "\n",
    "## Función Objetivo\n",
    "La función objetivo utilizada en este ejemplo es una función matemática bidimensional que se optimiza para encontrar su mínimo local.\n"
   ]
  }
 ],
 "metadata": {
  "kernelspec": {
   "display_name": "Python 3 (ipykernel)",
   "language": "python",
   "name": "python3"
  },
  "language_info": {
   "codemirror_mode": {
    "name": "ipython",
    "version": 3
   },
   "file_extension": ".py",
   "mimetype": "text/x-python",
   "name": "python",
   "nbconvert_exporter": "python",
   "pygments_lexer": "ipython3",
   "version": "3.12.1"
  }
 },
 "nbformat": 4,
 "nbformat_minor": 5
}
